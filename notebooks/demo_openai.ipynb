{
 "cells": [
  {
   "cell_type": "markdown",
   "id": "e49b37128a0e12ae",
   "metadata": {},
   "source": [
    "# Workflow Summary\n",
    "\n",
    "1. Load the application letters and the job ad\n",
    "2. Embed the application letters and the job ad using a text embedding model\n",
    "3. Find the most relevant (similar) application letters to the job ad\n",
    "4. Create a custom prompt for the langauge model which includes the job ad and the most relevant application letters, plus some extra information\n",
    "5. Generate a draft application letter by sending the prompt to the model and save it to a file for further use"
   ]
  },
  {
   "cell_type": "markdown",
   "id": "8bce22186ea367e7",
   "metadata": {},
   "source": "# Importing Libraries"
  },
  {
   "cell_type": "code",
   "id": "initial_id",
   "metadata": {
    "collapsed": true,
    "ExecuteTime": {
     "end_time": "2025-03-01T16:03:30.854723Z",
     "start_time": "2025-03-01T16:03:30.072154Z"
    }
   },
   "source": [
    "import io\n",
    "import os\n",
    "from pathlib import Path\n",
    "\n",
    "import pandas as pd\n",
    "import tiktoken\n",
    "from IPython.display import display, Markdown\n",
    "\n",
    "from easy_letters import LanguageModels, EmbeddingModels\n",
    "from easy_letters import OpenAIConnector, Ranker"
   ],
   "outputs": [],
   "execution_count": 1
  },
  {
   "cell_type": "markdown",
   "id": "dbe6834d7e71a750",
   "metadata": {},
   "source": "# Constants and Global Settings"
  },
  {
   "cell_type": "code",
   "id": "de023f5b4bcc6a27",
   "metadata": {
    "ExecuteTime": {
     "end_time": "2025-03-01T16:03:30.859295Z",
     "start_time": "2025-03-01T16:03:30.857632Z"
    }
   },
   "source": [
    "pd.set_option(\"display.float_format\", lambda x: f\"{x:.2f}\")"
   ],
   "outputs": [],
   "execution_count": 2
  },
  {
   "cell_type": "code",
   "id": "5c47615b36a77ea7",
   "metadata": {
    "collapsed": false,
    "ExecuteTime": {
     "end_time": "2025-03-01T16:03:30.934161Z",
     "start_time": "2025-03-01T16:03:30.932265Z"
    }
   },
   "source": [
    "DATA_DIR = Path(\"../tests/test_data\")\n",
    "LETTERS_DIR = DATA_DIR / \"sample_letters\"\n",
    "SAMPLE_JOB_AD = DATA_DIR / \"sample_ads/description_6.text\"\n",
    "\n",
    "OUTPUT_DIR = Path(\"./output\")\n",
    "OUTPUT_DIR.mkdir(exist_ok=True, parents=True)\n",
    "\n",
    "LLM = LanguageModels.OPENAI_GPT4OMINI"
   ],
   "outputs": [],
   "execution_count": 3
  },
  {
   "cell_type": "markdown",
   "id": "2b971057bcc85cf3",
   "metadata": {},
   "source": "# Helper Functions"
  },
  {
   "cell_type": "code",
   "id": "8f441a7372df51b6",
   "metadata": {
    "ExecuteTime": {
     "end_time": "2025-03-01T16:03:30.975702Z",
     "start_time": "2025-03-01T16:03:30.972929Z"
    }
   },
   "source": [
    "class DocumentLoader:\n",
    "    \"\"\"A class to load documents from files.\"\"\"\n",
    "\n",
    "    @staticmethod\n",
    "    def _read_txt(path: Path) -> str:\n",
    "        with io.open(path, \"r\", encoding=\"utf-8\") as f:\n",
    "            return f.read()\n",
    "\n",
    "    def bulk_load_documents(self, path: Path, ext=\".txt\") -> pd.DataFrame:\n",
    "        \"\"\"Load all the documents in a directory with a specific extension into a DataFrame.\"\"\"\n",
    "        documents = []\n",
    "        documents_ids = []\n",
    "\n",
    "        ext = \".\" + ext.lower().lstrip(\".\")\n",
    "        for file in path.glob(f\"*{ext}\"):\n",
    "            if ext in (\".txt\", \".text\"):\n",
    "                documents.append(self._read_txt(file))\n",
    "            else:\n",
    "                raise ValueError(\n",
    "                    f\"Unsupported file format: {ext.strip('.').capitalize()}\"\n",
    "                )\n",
    "            documents_ids.append(file.stem)\n",
    "        return pd.DataFrame({\"id\": documents_ids, \"text\": documents})\n",
    "\n",
    "    def load_document(self, path: Path, ext=\".txt\") -> str:\n",
    "        \"\"\"Load a single document from a file.\"\"\"\n",
    "        if ext == \".txt\":\n",
    "            return self._read_txt(path)\n",
    "        else:\n",
    "            raise ValueError(f\"Unsupported file format: {ext}\")"
   ],
   "outputs": [],
   "execution_count": 4
  },
  {
   "cell_type": "code",
   "id": "f95d49699943e99b",
   "metadata": {
    "ExecuteTime": {
     "end_time": "2025-03-01T16:03:31.020763Z",
     "start_time": "2025-03-01T16:03:31.018818Z"
    }
   },
   "source": [
    "def pprint(text: str):\n",
    "    \"\"\"Pretty print the text as markdown in Jupyter Notebook's output.\"\"\"\n",
    "    display(Markdown(text))"
   ],
   "outputs": [],
   "execution_count": 5
  },
  {
   "cell_type": "code",
   "id": "eb103567891fa92",
   "metadata": {
    "ExecuteTime": {
     "end_time": "2025-03-01T16:03:31.065485Z",
     "start_time": "2025-03-01T16:03:31.063169Z"
    }
   },
   "source": [
    "def gen_num_tokens(text: str, encoding: str = \"r50k_base\") -> int:\n",
    "    \"\"\"Calculate the number of tokens in a string for a specific model.\n",
    "    Supported encodings and their compatible models:\n",
    "    | Encoding    | Compatible Models                                     |\n",
    "    |-------------|-------------------------------------------------------|\n",
    "    | cl100k_base | gpt-4, gpt-3.5-turbo, and text-embedding-ada-002      |\n",
    "    | p50k_base   | codex models, text-davinci-002, and text-davinci-003  |\n",
    "    | r50k_base   | GPT-3-based models like davinci and GPT-3.5-turbo     |\n",
    "    \"\"\"\n",
    "    encoding = tiktoken.get_encoding(encoding)\n",
    "    return len(encoding.encode(text))"
   ],
   "outputs": [],
   "execution_count": 6
  },
  {
   "cell_type": "markdown",
   "id": "9744b2654a8917ca",
   "metadata": {},
   "source": "# Loading the Application Letters"
  },
  {
   "cell_type": "code",
   "id": "d4373fdb670dddb4",
   "metadata": {
    "collapsed": false,
    "ExecuteTime": {
     "end_time": "2025-03-01T16:03:31.118478Z",
     "start_time": "2025-03-01T16:03:31.108213Z"
    }
   },
   "source": [
    "doc_loader = DocumentLoader()\n",
    "application_letters_df = doc_loader.bulk_load_documents(LETTERS_DIR, ext=\"text\")"
   ],
   "outputs": [],
   "execution_count": 7
  },
  {
   "cell_type": "code",
   "id": "afca07705eed8007",
   "metadata": {
    "collapsed": false,
    "ExecuteTime": {
     "end_time": "2025-03-01T16:03:31.160056Z",
     "start_time": "2025-03-01T16:03:31.152759Z"
    }
   },
   "source": [
    "application_letters_df.head()"
   ],
   "outputs": [
    {
     "data": {
      "text/plain": [
       "                  id                                               text\n",
       "0  sample_letter_507  I am writing to apply for the System Administr...\n",
       "1  sample_letter_649  I am excited to apply for the AI Engineer posi...\n",
       "2  sample_letter_480  Dear Hiring Manager,\\n\\nI am writing to expres...\n",
       "3  sample_letter_605  Dear Hiring Manager,\\n\\nI am writing to expres...\n",
       "4  sample_letter_746  I am writing to express my interest in the Dat..."
      ],
      "text/html": [
       "<div>\n",
       "<style scoped>\n",
       "    .dataframe tbody tr th:only-of-type {\n",
       "        vertical-align: middle;\n",
       "    }\n",
       "\n",
       "    .dataframe tbody tr th {\n",
       "        vertical-align: top;\n",
       "    }\n",
       "\n",
       "    .dataframe thead th {\n",
       "        text-align: right;\n",
       "    }\n",
       "</style>\n",
       "<table border=\"1\" class=\"dataframe\">\n",
       "  <thead>\n",
       "    <tr style=\"text-align: right;\">\n",
       "      <th></th>\n",
       "      <th>id</th>\n",
       "      <th>text</th>\n",
       "    </tr>\n",
       "  </thead>\n",
       "  <tbody>\n",
       "    <tr>\n",
       "      <th>0</th>\n",
       "      <td>sample_letter_507</td>\n",
       "      <td>I am writing to apply for the System Administr...</td>\n",
       "    </tr>\n",
       "    <tr>\n",
       "      <th>1</th>\n",
       "      <td>sample_letter_649</td>\n",
       "      <td>I am excited to apply for the AI Engineer posi...</td>\n",
       "    </tr>\n",
       "    <tr>\n",
       "      <th>2</th>\n",
       "      <td>sample_letter_480</td>\n",
       "      <td>Dear Hiring Manager,\\n\\nI am writing to expres...</td>\n",
       "    </tr>\n",
       "    <tr>\n",
       "      <th>3</th>\n",
       "      <td>sample_letter_605</td>\n",
       "      <td>Dear Hiring Manager,\\n\\nI am writing to expres...</td>\n",
       "    </tr>\n",
       "    <tr>\n",
       "      <th>4</th>\n",
       "      <td>sample_letter_746</td>\n",
       "      <td>I am writing to express my interest in the Dat...</td>\n",
       "    </tr>\n",
       "  </tbody>\n",
       "</table>\n",
       "</div>"
      ]
     },
     "execution_count": 8,
     "metadata": {},
     "output_type": "execute_result"
    }
   ],
   "execution_count": 8
  },
  {
   "cell_type": "markdown",
   "id": "f13c02d1366be5df",
   "metadata": {},
   "source": "# Initializing a Connector to the OpenAI API"
  },
  {
   "cell_type": "code",
   "id": "c7e7e469ae9840ea",
   "metadata": {
    "collapsed": false,
    "ExecuteTime": {
     "end_time": "2025-03-01T16:03:31.285820Z",
     "start_time": "2025-03-01T16:03:31.284192Z"
    }
   },
   "source": [
    "openai_key = os.getenv(\"OPENAI_API_KEY\")\n",
    "\n",
    "# Check if the API key is set and available\n",
    "assert openai_key != \"\", \"Please set the OPENAI_API_KEY environment variable\""
   ],
   "outputs": [],
   "execution_count": 9
  },
  {
   "cell_type": "code",
   "id": "47b55c370e9b849a",
   "metadata": {
    "collapsed": false,
    "ExecuteTime": {
     "end_time": "2025-03-01T16:03:31.354081Z",
     "start_time": "2025-03-01T16:03:31.325298Z"
    }
   },
   "source": [
    "connector = OpenAIConnector(openai_key)"
   ],
   "outputs": [],
   "execution_count": 10
  },
  {
   "cell_type": "markdown",
   "id": "64a31f966f4bce00",
   "metadata": {},
   "source": "# Embedding the Letters"
  },
  {
   "cell_type": "code",
   "id": "68a6d6e054a998b0",
   "metadata": {
    "collapsed": false,
    "ExecuteTime": {
     "end_time": "2025-03-01T16:03:35.887699Z",
     "start_time": "2025-03-01T16:03:31.376295Z"
    }
   },
   "source": [
    "letters_with_embeddings_df = application_letters_df.copy()\n",
    "letters_with_embeddings_df[\"embedding\"] = connector.embed(\n",
    "    documents=application_letters_df[\"text\"], model=EmbeddingModels.OPENAPI_EMS\n",
    ")"
   ],
   "outputs": [],
   "execution_count": 11
  },
  {
   "cell_type": "code",
   "id": "8d4478a411acf706",
   "metadata": {
    "ExecuteTime": {
     "end_time": "2025-03-01T16:03:35.898332Z",
     "start_time": "2025-03-01T16:03:35.893536Z"
    }
   },
   "source": [
    "letters_with_embeddings_df.head()"
   ],
   "outputs": [
    {
     "data": {
      "text/plain": [
       "                  id                                               text  \\\n",
       "0  sample_letter_507  I am writing to apply for the System Administr...   \n",
       "1  sample_letter_649  I am excited to apply for the AI Engineer posi...   \n",
       "2  sample_letter_480  Dear Hiring Manager,\\n\\nI am writing to expres...   \n",
       "3  sample_letter_605  Dear Hiring Manager,\\n\\nI am writing to expres...   \n",
       "4  sample_letter_746  I am writing to express my interest in the Dat...   \n",
       "\n",
       "                                           embedding  \n",
       "0  [-0.017879672348499298, 0.01556997001171112, 0...  \n",
       "1  [-0.016682444140315056, -0.0227852500975132, -...  \n",
       "2  [0.04394077882170677, 0.005209765397012234, 0....  \n",
       "3  [0.04028189927339554, 0.020218798890709877, 0....  \n",
       "4  [0.016521798446774483, -0.006224688142538071, ...  "
      ],
      "text/html": [
       "<div>\n",
       "<style scoped>\n",
       "    .dataframe tbody tr th:only-of-type {\n",
       "        vertical-align: middle;\n",
       "    }\n",
       "\n",
       "    .dataframe tbody tr th {\n",
       "        vertical-align: top;\n",
       "    }\n",
       "\n",
       "    .dataframe thead th {\n",
       "        text-align: right;\n",
       "    }\n",
       "</style>\n",
       "<table border=\"1\" class=\"dataframe\">\n",
       "  <thead>\n",
       "    <tr style=\"text-align: right;\">\n",
       "      <th></th>\n",
       "      <th>id</th>\n",
       "      <th>text</th>\n",
       "      <th>embedding</th>\n",
       "    </tr>\n",
       "  </thead>\n",
       "  <tbody>\n",
       "    <tr>\n",
       "      <th>0</th>\n",
       "      <td>sample_letter_507</td>\n",
       "      <td>I am writing to apply for the System Administr...</td>\n",
       "      <td>[-0.017879672348499298, 0.01556997001171112, 0...</td>\n",
       "    </tr>\n",
       "    <tr>\n",
       "      <th>1</th>\n",
       "      <td>sample_letter_649</td>\n",
       "      <td>I am excited to apply for the AI Engineer posi...</td>\n",
       "      <td>[-0.016682444140315056, -0.0227852500975132, -...</td>\n",
       "    </tr>\n",
       "    <tr>\n",
       "      <th>2</th>\n",
       "      <td>sample_letter_480</td>\n",
       "      <td>Dear Hiring Manager,\\n\\nI am writing to expres...</td>\n",
       "      <td>[0.04394077882170677, 0.005209765397012234, 0....</td>\n",
       "    </tr>\n",
       "    <tr>\n",
       "      <th>3</th>\n",
       "      <td>sample_letter_605</td>\n",
       "      <td>Dear Hiring Manager,\\n\\nI am writing to expres...</td>\n",
       "      <td>[0.04028189927339554, 0.020218798890709877, 0....</td>\n",
       "    </tr>\n",
       "    <tr>\n",
       "      <th>4</th>\n",
       "      <td>sample_letter_746</td>\n",
       "      <td>I am writing to express my interest in the Dat...</td>\n",
       "      <td>[0.016521798446774483, -0.006224688142538071, ...</td>\n",
       "    </tr>\n",
       "  </tbody>\n",
       "</table>\n",
       "</div>"
      ]
     },
     "execution_count": 12,
     "metadata": {},
     "output_type": "execute_result"
    }
   ],
   "execution_count": 12
  },
  {
   "cell_type": "markdown",
   "id": "c7e02957fc102026",
   "metadata": {},
   "source": "# Finding the Most Relevant Letters to the Job Ad"
  },
  {
   "cell_type": "code",
   "id": "ce90f301a75a57d",
   "metadata": {
    "ExecuteTime": {
     "end_time": "2025-03-01T16:03:35.957725Z",
     "start_time": "2025-03-01T16:03:35.953966Z"
    }
   },
   "source": [
    "ranker = Ranker()"
   ],
   "outputs": [],
   "execution_count": 13
  },
  {
   "cell_type": "code",
   "id": "20a8939323bfaf40",
   "metadata": {
    "ExecuteTime": {
     "end_time": "2025-03-01T16:03:36.786030Z",
     "start_time": "2025-03-01T16:03:35.995579Z"
    }
   },
   "source": [
    "ranker.make_collection(documents_with_embeddings=letters_with_embeddings_df)"
   ],
   "outputs": [
    {
     "name": "stdout",
     "output_type": "stream",
     "text": [
      "Creating collection letters with 813 points of size 1536\n"
     ]
    }
   ],
   "execution_count": 14
  },
  {
   "cell_type": "code",
   "id": "f1ecce59c3f826e0",
   "metadata": {
    "ExecuteTime": {
     "end_time": "2025-03-01T16:03:36.800549Z",
     "start_time": "2025-03-01T16:03:36.798838Z"
    }
   },
   "source": [
    "sample_job_ad = doc_loader.load_document(path=SAMPLE_JOB_AD)\n",
    "\n",
    "pprint(sample_job_ad)"
   ],
   "outputs": [
    {
     "data": {
      "text/plain": [
       "<IPython.core.display.Markdown object>"
      ],
      "text/markdown": "OSI Assistance Foundation - Armenian Branch Office\nJOB TITLE:  Chief Accountant/ Finance Assistant\nPOSITION LOCATION: Yerevan, Armenia\nJOB DESCRIPTION:   The Armenian Branch Office of the Open Society\nInstitute Assistance Foundation is seeking applications for the position\nof Chief Accountant/ Finance Assistant. The Chief Accountant/ Finance\nAssistant will be responsible for all transactions, connected with grant\npayments, administrative expenses. \nREQUIRED QUALIFICATIONS: \n- University degree in finance/ accounting; \n- One year minimum experience in an international organization; \n- Strong organizational skills; \n- Good knowledge of software programs: MS Excel and MS Access; \n- Good knowledge of IAS, Armenian taxation laws, reporting requirements\nand current reforms; \n- Discretion and ability to handle confidential issues; \n- Self-motivation with an ability to set and meet goals; \n- Quick learning skills; \n- Fluency in English, Armenian and Russian. \nAPPLICATION PROCEDURES:  For submission of applications/ CVs, please\ncontact the OSI AF - Armenia at: 1 Pushkin Str., apt. 2. Tel: 54 2119,\n54 39 01, 54 17 19; e-mail: jobs@.... \nPlease clearly mention in your application letter that you learned of\nthis job opportunity through Career Center and mention the URL of its\nwebsite - www.careercenter.am, Thanks.\nAPPLICATION DEADLINE:   16 January 2004, 6:00 pm.\n----------------------------------\nTo place a free posting for job or other career related opportunities in\nyour organization at careercenter.am website, e-mail us atmailbox@..."
     },
     "metadata": {},
     "output_type": "display_data"
    }
   ],
   "execution_count": 15
  },
  {
   "cell_type": "code",
   "id": "2d61db3285bf245c",
   "metadata": {
    "ExecuteTime": {
     "end_time": "2025-03-01T16:03:37.297177Z",
     "start_time": "2025-03-01T16:03:36.840933Z"
    }
   },
   "source": [
    "sample_job_ad_embedded = connector.embed(\n",
    "    documents=[sample_job_ad], model=EmbeddingModels.OPENAPI_EMS\n",
    ")"
   ],
   "outputs": [],
   "execution_count": 16
  },
  {
   "cell_type": "code",
   "id": "f40e0f2ddb7a7504",
   "metadata": {
    "ExecuteTime": {
     "end_time": "2025-03-01T16:03:37.301674Z",
     "start_time": "2025-03-01T16:03:37.299478Z"
    }
   },
   "source": [
    "sample_job_ad_embedded"
   ],
   "outputs": [
    {
     "data": {
      "text/plain": [
       "[array([-0.03499759, -0.01236026,  0.00740111, ...,  0.00064774,\n",
       "         0.02555379, -0.00236529], shape=(1536,))]"
      ]
     },
     "execution_count": 17,
     "metadata": {},
     "output_type": "execute_result"
    }
   ],
   "execution_count": 17
  },
  {
   "cell_type": "code",
   "id": "1ab0c0edd9e564bf",
   "metadata": {
    "ExecuteTime": {
     "end_time": "2025-03-01T16:03:37.355254Z",
     "start_time": "2025-03-01T16:03:37.345435Z"
    }
   },
   "source": [
    "most_relevant_letters = ranker.find_similar(\n",
    "    sample_job_ad_embedded[0], top_k=3, min_similarity=0.1\n",
    ")\n",
    "\n",
    "most_relevant_letters"
   ],
   "outputs": [
    {
     "data": {
      "text/plain": [
       "[{'id': 302,\n",
       "  'payload': {'text': 'I am applying for the System Administrator position at Adobe. My extensive experience with Red Hat, CentOS, and Puppet, as well as my proficiency in Ruby, makes me a strong candidate for this role. I am excited about the opportunity to bring my unique skill set to your team.'},\n",
       "  'score': 0.36129672473127655},\n",
       " {'id': 640,\n",
       "  'payload': {'text': 'I am very interested in the Senior Support Engineer position at Innovative Tech. I have over 4 years of experience in IT support, and I am confident that I can bring a high level of expertise to your team. In my current role at ABC Inc, I have been responsible for managing a team of support specialists and dealing with complex technical issues. I am highly skilled in troubleshooting, networking, and both Linux and Windows systems. I hold a BSc in Information Technology and I am always eager to learn and improve my skills. I believe that my experience and dedication would make me a valuable addition to your company. Thank you for considering my application.'},\n",
       "  'score': 0.35730961122204624},\n",
       " {'id': 545,\n",
       "  'payload': {'text': \"Dear Hiring Manager,\\n\\nI am writing to express my interest in the Intermediate Applied Scientist position at ABC Environmental Solutions. With my strong background in environmental science and experience in applied consulting, I believe I am well-suited for this role.\\n\\nIn my current position as an Applied Scientist at DEF Environmental Solutions, I have successfully conducted environmental impact assessments and provided regulatory support. I have also gained proficiency in data analysis using tools such as Microsoft Office Suite and Arc GIS. Additionally, my fieldwork experience has allowed me to develop strong problem-solving skills and the ability to thrive under new challenges.\\n\\nI hold a Bachelor's degree in Environmental Science and have completed the Canadian Certified Electrofishing Course, demonstrating my commitment to continuous learning and professional development. Furthermore, my Level 1 First Aid Certificate in BC showcases my dedication to safety in the field.\\n\\nI am confident that my technical expertise, leadership abilities, and strong communication skills make me a valuable asset to your team. I am excited about the opportunity to contribute to ABC Environmental Solutions and make a positive impact on environmental conservation.\\n\\nThank you for considering my application. I look forward to the opportunity to discuss how my qualifications align with the requirements of the Intermediate Applied Scientist position.\\n\\nSincerely,\\nJohn Smith\"},\n",
       "  'score': 0.35427863518996816}]"
      ]
     },
     "execution_count": 18,
     "metadata": {},
     "output_type": "execute_result"
    }
   ],
   "execution_count": 18
  },
  {
   "cell_type": "code",
   "id": "72f666ce5b32c3c2",
   "metadata": {
    "ExecuteTime": {
     "end_time": "2025-03-01T16:03:37.404063Z",
     "start_time": "2025-03-01T16:03:37.398438Z"
    }
   },
   "source": [
    "for letter in most_relevant_letters:\n",
    "    print(\"=\" * 80)\n",
    "    print(f\"Letter ID: {letter['id']}\")\n",
    "    print(f\"Similarity: {letter['score']:.2f}\")\n",
    "    print(f\"Letter Text:\\n{letter['payload']['text']}\")\n",
    "    print()"
   ],
   "outputs": [
    {
     "name": "stdout",
     "output_type": "stream",
     "text": [
      "================================================================================\n",
      "Letter ID: 302\n",
      "Similarity: 0.36\n",
      "Letter Text:\n",
      "I am applying for the System Administrator position at Adobe. My extensive experience with Red Hat, CentOS, and Puppet, as well as my proficiency in Ruby, makes me a strong candidate for this role. I am excited about the opportunity to bring my unique skill set to your team.\n",
      "\n",
      "================================================================================\n",
      "Letter ID: 640\n",
      "Similarity: 0.36\n",
      "Letter Text:\n",
      "I am very interested in the Senior Support Engineer position at Innovative Tech. I have over 4 years of experience in IT support, and I am confident that I can bring a high level of expertise to your team. In my current role at ABC Inc, I have been responsible for managing a team of support specialists and dealing with complex technical issues. I am highly skilled in troubleshooting, networking, and both Linux and Windows systems. I hold a BSc in Information Technology and I am always eager to learn and improve my skills. I believe that my experience and dedication would make me a valuable addition to your company. Thank you for considering my application.\n",
      "\n",
      "================================================================================\n",
      "Letter ID: 545\n",
      "Similarity: 0.35\n",
      "Letter Text:\n",
      "Dear Hiring Manager,\n",
      "\n",
      "I am writing to express my interest in the Intermediate Applied Scientist position at ABC Environmental Solutions. With my strong background in environmental science and experience in applied consulting, I believe I am well-suited for this role.\n",
      "\n",
      "In my current position as an Applied Scientist at DEF Environmental Solutions, I have successfully conducted environmental impact assessments and provided regulatory support. I have also gained proficiency in data analysis using tools such as Microsoft Office Suite and Arc GIS. Additionally, my fieldwork experience has allowed me to develop strong problem-solving skills and the ability to thrive under new challenges.\n",
      "\n",
      "I hold a Bachelor's degree in Environmental Science and have completed the Canadian Certified Electrofishing Course, demonstrating my commitment to continuous learning and professional development. Furthermore, my Level 1 First Aid Certificate in BC showcases my dedication to safety in the field.\n",
      "\n",
      "I am confident that my technical expertise, leadership abilities, and strong communication skills make me a valuable asset to your team. I am excited about the opportunity to contribute to ABC Environmental Solutions and make a positive impact on environmental conservation.\n",
      "\n",
      "Thank you for considering my application. I look forward to the opportunity to discuss how my qualifications align with the requirements of the Intermediate Applied Scientist position.\n",
      "\n",
      "Sincerely,\n",
      "John Smith\n",
      "\n"
     ]
    }
   ],
   "execution_count": 19
  },
  {
   "cell_type": "markdown",
   "id": "6b7ec625af7b6ac5",
   "metadata": {},
   "source": "# Gluing Everything Together"
  },
  {
   "cell_type": "code",
   "id": "469615267e34f4b7",
   "metadata": {
    "ExecuteTime": {
     "end_time": "2025-03-01T16:03:37.446492Z",
     "start_time": "2025-03-01T16:03:37.443381Z"
    }
   },
   "source": [
    "prompt_part_1 = \"I'm applying for a job with this description:\\n\\n\"\n",
    "prompt_part_2 = \"#START OF JOB AD\\n\\n\" + sample_job_ad + \"\\n\\n#END OF JOB AD\"\n",
    "prompt_part_3 = \"\\n\\nI need to submit a application letter with my CV. Here is a few examples of my previous application letters:\\n\\n\"\n",
    "prompt_part_4 = \"\\n\\n\".join(\n",
    "    [\n",
    "        (\n",
    "            \"#START OF EXAMPLE APPLICATION LETTER\\n\\n\"\n",
    "            + t['payload'][\"text\"]\n",
    "            + \"\\n\\n#END OF EXAMPLE APPLICATION LETTER\"\n",
    "        )\n",
    "        for t in most_relevant_letters\n",
    "    ]\n",
    ")\n",
    "# Extra information for the prompt\n",
    "prompt_part_5 = (\n",
    "    \"\\n\\nWrite a new application letter that is tailored to the job description above. \"\n",
    "    \"Be concise and to the point. The letter should be no longer than 500 words. \"\n",
    "    \"The letter should be written in English and be easy to read.\\n\\n\"\n",
    ")\n",
    "\n",
    "prompt = prompt_part_1 + prompt_part_2 + prompt_part_3 + prompt_part_4 + prompt_part_5\n",
    "pprint(prompt)"
   ],
   "outputs": [
    {
     "data": {
      "text/plain": [
       "<IPython.core.display.Markdown object>"
      ],
      "text/markdown": "I'm applying for a job with this description:\n\n#START OF JOB AD\n\nOSI Assistance Foundation - Armenian Branch Office\nJOB TITLE:  Chief Accountant/ Finance Assistant\nPOSITION LOCATION: Yerevan, Armenia\nJOB DESCRIPTION:   The Armenian Branch Office of the Open Society\nInstitute Assistance Foundation is seeking applications for the position\nof Chief Accountant/ Finance Assistant. The Chief Accountant/ Finance\nAssistant will be responsible for all transactions, connected with grant\npayments, administrative expenses. \nREQUIRED QUALIFICATIONS: \n- University degree in finance/ accounting; \n- One year minimum experience in an international organization; \n- Strong organizational skills; \n- Good knowledge of software programs: MS Excel and MS Access; \n- Good knowledge of IAS, Armenian taxation laws, reporting requirements\nand current reforms; \n- Discretion and ability to handle confidential issues; \n- Self-motivation with an ability to set and meet goals; \n- Quick learning skills; \n- Fluency in English, Armenian and Russian. \nAPPLICATION PROCEDURES:  For submission of applications/ CVs, please\ncontact the OSI AF - Armenia at: 1 Pushkin Str., apt. 2. Tel: 54 2119,\n54 39 01, 54 17 19; e-mail: jobs@.... \nPlease clearly mention in your application letter that you learned of\nthis job opportunity through Career Center and mention the URL of its\nwebsite - www.careercenter.am, Thanks.\nAPPLICATION DEADLINE:   16 January 2004, 6:00 pm.\n----------------------------------\nTo place a free posting for job or other career related opportunities in\nyour organization at careercenter.am website, e-mail us atmailbox@...\n\n#END OF JOB AD\n\nI need to submit a application letter with my CV. Here is a few examples of my previous application letters:\n\n#START OF EXAMPLE APPLICATION LETTER\n\nI am applying for the System Administrator position at Adobe. My extensive experience with Red Hat, CentOS, and Puppet, as well as my proficiency in Ruby, makes me a strong candidate for this role. I am excited about the opportunity to bring my unique skill set to your team.\n\n#END OF EXAMPLE APPLICATION LETTER\n\n#START OF EXAMPLE APPLICATION LETTER\n\nI am very interested in the Senior Support Engineer position at Innovative Tech. I have over 4 years of experience in IT support, and I am confident that I can bring a high level of expertise to your team. In my current role at ABC Inc, I have been responsible for managing a team of support specialists and dealing with complex technical issues. I am highly skilled in troubleshooting, networking, and both Linux and Windows systems. I hold a BSc in Information Technology and I am always eager to learn and improve my skills. I believe that my experience and dedication would make me a valuable addition to your company. Thank you for considering my application.\n\n#END OF EXAMPLE APPLICATION LETTER\n\n#START OF EXAMPLE APPLICATION LETTER\n\nDear Hiring Manager,\n\nI am writing to express my interest in the Intermediate Applied Scientist position at ABC Environmental Solutions. With my strong background in environmental science and experience in applied consulting, I believe I am well-suited for this role.\n\nIn my current position as an Applied Scientist at DEF Environmental Solutions, I have successfully conducted environmental impact assessments and provided regulatory support. I have also gained proficiency in data analysis using tools such as Microsoft Office Suite and Arc GIS. Additionally, my fieldwork experience has allowed me to develop strong problem-solving skills and the ability to thrive under new challenges.\n\nI hold a Bachelor's degree in Environmental Science and have completed the Canadian Certified Electrofishing Course, demonstrating my commitment to continuous learning and professional development. Furthermore, my Level 1 First Aid Certificate in BC showcases my dedication to safety in the field.\n\nI am confident that my technical expertise, leadership abilities, and strong communication skills make me a valuable asset to your team. I am excited about the opportunity to contribute to ABC Environmental Solutions and make a positive impact on environmental conservation.\n\nThank you for considering my application. I look forward to the opportunity to discuss how my qualifications align with the requirements of the Intermediate Applied Scientist position.\n\nSincerely,\nJohn Smith\n\n#END OF EXAMPLE APPLICATION LETTER\n\nWrite a new application letter that is tailored to the job description above. Be concise and to the point. The letter should be no longer than 500 words. The letter should be written in English and be easy to read.\n\n"
     },
     "metadata": {},
     "output_type": "display_data"
    }
   ],
   "execution_count": 20
  },
  {
   "cell_type": "code",
   "id": "777666bb5f08fab",
   "metadata": {
    "ExecuteTime": {
     "end_time": "2025-03-01T16:03:39.042845Z",
     "start_time": "2025-03-01T16:03:37.490333Z"
    }
   },
   "source": [
    "num_tokens = gen_num_tokens(text=prompt, encoding=\"r50k_base\")\n",
    "print(f\"Number of tokens sent to the API: {num_tokens}\")"
   ],
   "outputs": [
    {
     "name": "stdout",
     "output_type": "stream",
     "text": [
      "Number of tokens sent to the API: 995\n"
     ]
    }
   ],
   "execution_count": 21
  },
  {
   "cell_type": "code",
   "id": "fdcaa76ede6692a7",
   "metadata": {
    "ExecuteTime": {
     "end_time": "2025-03-01T16:03:44.773958Z",
     "start_time": "2025-03-01T16:03:39.049094Z"
    }
   },
   "source": [
    "draft_letter = connector.chat(prompt=prompt, model=LLM, temperature=0.1, max_tokens=512)"
   ],
   "outputs": [],
   "execution_count": 22
  },
  {
   "cell_type": "code",
   "id": "7fdc9e1c780ff8fc",
   "metadata": {
    "ExecuteTime": {
     "end_time": "2025-03-01T16:03:44.788880Z",
     "start_time": "2025-03-01T16:03:44.786983Z"
    }
   },
   "source": [
    "pprint(draft_letter)"
   ],
   "outputs": [
    {
     "data": {
      "text/plain": [
       "<IPython.core.display.Markdown object>"
      ],
      "text/markdown": "[Your Name]  \n[Your Address]  \n[City, State, Zip]  \n[Your Email]  \n[Your Phone Number]  \n[Date]  \n\nHiring Manager  \nOSI Assistance Foundation - Armenian Branch Office  \n1 Pushkin Str., apt. 2  \nYerevan, Armenia  \n\nDear Hiring Manager,\n\nI am writing to express my interest in the Chief Accountant/Finance Assistant position at the OSI Assistance Foundation, as advertised. With a university degree in finance and over a year of experience in an international organization, I am confident in my ability to contribute effectively to your team.\n\nIn my previous role at [Your Previous Company], I was responsible for managing financial transactions, including grant payments and administrative expenses. This experience has equipped me with a solid understanding of International Accounting Standards (IAS) and Armenian taxation laws, as well as the reporting requirements necessary for compliance. My strong organizational skills have allowed me to maintain accurate financial records while ensuring timely reporting and adherence to deadlines.\n\nI am proficient in MS Excel and MS Access, which I have used extensively for data analysis and financial reporting. My ability to quickly learn new software and adapt to changing environments has been a key asset in my previous positions. I pride myself on my discretion and ability to handle confidential information with the utmost professionalism.\n\nFluency in English, Armenian, and Russian enables me to communicate effectively with diverse stakeholders, fostering collaboration and understanding within the team. I am self-motivated and goal-oriented, always striving to improve my skills and contribute positively to my workplace.\n\nI am excited about the opportunity to join the OSI Assistance Foundation and support its mission through effective financial management. Thank you for considering my application. I look forward to the possibility of discussing how my qualifications align with the needs of your organization.\n\nSincerely,\n\n[Your Name]"
     },
     "metadata": {},
     "output_type": "display_data"
    }
   ],
   "execution_count": 23
  },
  {
   "cell_type": "code",
   "id": "72e655639ecf67ec",
   "metadata": {
    "ExecuteTime": {
     "end_time": "2025-03-01T16:03:44.827391Z",
     "start_time": "2025-03-01T16:03:44.825356Z"
    }
   },
   "source": [
    "# Save the draft letter to a file\n",
    "output_file = OUTPUT_DIR / f\"draft-letter-using-{LLM}.txt\"\n",
    "with io.open(output_file, \"w\", encoding=\"utf-8\") as f:\n",
    "    f.write(draft_letter)"
   ],
   "outputs": [],
   "execution_count": 24
  },
  {
   "cell_type": "code",
   "id": "58c6a81261120d3a",
   "metadata": {
    "ExecuteTime": {
     "end_time": "2025-03-01T16:03:44.872718Z",
     "start_time": "2025-03-01T16:03:44.870933Z"
    }
   },
   "source": [
    "print(\"Done! The draft letter is saved to the file: \", output_file)"
   ],
   "outputs": [
    {
     "name": "stdout",
     "output_type": "stream",
     "text": [
      "Done! The draft letter is saved to the file:  output/draft-letter-using-gpt-4o-mini.txt\n"
     ]
    }
   ],
   "execution_count": 25
  }
 ],
 "metadata": {
  "kernelspec": {
   "display_name": "Python 3",
   "language": "python",
   "name": "python3"
  },
  "language_info": {
   "codemirror_mode": {
    "name": "ipython",
    "version": 2
   },
   "file_extension": ".py",
   "mimetype": "text/x-python",
   "name": "python",
   "nbconvert_exporter": "python",
   "pygments_lexer": "ipython2",
   "version": "2.7.6"
  }
 },
 "nbformat": 4,
 "nbformat_minor": 5
}
