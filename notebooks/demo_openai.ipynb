{
 "cells": [
  {
   "metadata": {},
   "cell_type": "markdown",
   "source": [
    "# Workflow Summary\n",
    "\n",
    "1. Load the application letters and the job ad\n",
    "2. Embed the application letters and the job ad using a text embedding model\n",
    "3. Find the most relevant (similar) application letters to the job ad\n",
    "4. Create a custom prompt for the langauge model which includes the job ad and the most relevant application letters, plus some extra information\n",
    "5. Generate a draft application letter by sending the prompt to the model and save it to a file for further use"
   ],
   "id": "e49b37128a0e12ae"
  },
  {
   "metadata": {},
   "cell_type": "markdown",
   "source": "# Importing Libraries",
   "id": "8bce22186ea367e7"
  },
  {
   "cell_type": "code",
   "id": "initial_id",
   "metadata": {
    "collapsed": true,
    "ExecuteTime": {
     "end_time": "2024-06-30T07:45:17.483239Z",
     "start_time": "2024-06-30T07:45:16.671530Z"
    }
   },
   "source": [
    "import io\n",
    "import os\n",
    "import tiktoken\n",
    "\n",
    "import pandas as pd\n",
    "\n",
    "from easy_letters import OpenAIConnector, Ranker\n",
    "from easy_letters import LanguageModels, EmbeddingModels\n",
    "\n",
    "from IPython.display import display, Markdown\n",
    "from pathlib import Path"
   ],
   "outputs": [],
   "execution_count": 1
  },
  {
   "metadata": {},
   "cell_type": "markdown",
   "source": "# Constants and Global Settings",
   "id": "dbe6834d7e71a750"
  },
  {
   "metadata": {
    "ExecuteTime": {
     "end_time": "2024-06-30T07:45:17.485596Z",
     "start_time": "2024-06-30T07:45:17.483928Z"
    }
   },
   "cell_type": "code",
   "source": "pd.set_option('display.float_format', lambda x: f'{x:.2f}')",
   "id": "de023f5b4bcc6a27",
   "outputs": [],
   "execution_count": 2
  },
  {
   "cell_type": "code",
   "source": [
    "DATA_DIR = Path(\"../tests/test_data\")\n",
    "LETTERS_DIR = DATA_DIR/ \"sample_letters\"\n",
    "SAMPLE_JOB_AD = DATA_DIR / \"sample_ads/description_6.text\"\n",
    "\n",
    "OUTPUT_DIR = Path(\"./output\")\n",
    "OUTPUT_DIR.mkdir(exist_ok=True, parents=True)"
   ],
   "metadata": {
    "collapsed": false,
    "ExecuteTime": {
     "end_time": "2024-06-30T07:45:17.495790Z",
     "start_time": "2024-06-30T07:45:17.486006Z"
    }
   },
   "id": "5c47615b36a77ea7",
   "outputs": [],
   "execution_count": 3
  },
  {
   "metadata": {},
   "cell_type": "markdown",
   "source": "# Helper Functions",
   "id": "2b971057bcc85cf3"
  },
  {
   "metadata": {
    "ExecuteTime": {
     "end_time": "2024-06-30T07:45:17.502153Z",
     "start_time": "2024-06-30T07:45:17.496482Z"
    }
   },
   "cell_type": "code",
   "source": [
    "class DocumentLoader:\n",
    "    \"\"\"A class to load documents from files.\"\"\"\n",
    "    \n",
    "    @staticmethod\n",
    "    def _read_txt(path: Path) -> str:\n",
    "        with io.open(path, 'r', encoding='utf-8') as f:\n",
    "            return f.read()\n",
    "\n",
    "    def bulk_load_documents(self, path: Path, ext='.txt') -> pd.DataFrame:\n",
    "        \"\"\"Load all the documents in a directory with a specific extension into a DataFrame.\"\"\"\n",
    "        documents = []\n",
    "        documents_ids = []\n",
    "        \n",
    "        ext = '.' + ext.lower().lstrip('.')\n",
    "        for file in path.glob(f'*{ext}'):\n",
    "            if ext in ('.txt', '.text'):\n",
    "                documents.append(self._read_txt(file))\n",
    "            else:\n",
    "                raise ValueError(f'Unsupported file format: {ext.strip(\".\").capitalize()}')\n",
    "            documents_ids.append(file.stem)\n",
    "        return pd.DataFrame({'id': documents_ids, 'text': documents})\n",
    "\n",
    "    def load_document(self, path: Path, ext='.txt') -> str:\n",
    "        \"\"\"Load a single document from a file.\"\"\"\n",
    "        if ext == '.txt':\n",
    "            return self._read_txt(path)\n",
    "        else:\n",
    "            raise ValueError(f'Unsupported file format: {ext}')"
   ],
   "id": "8f441a7372df51b6",
   "outputs": [],
   "execution_count": 4
  },
  {
   "metadata": {
    "ExecuteTime": {
     "end_time": "2024-06-30T07:45:17.508573Z",
     "start_time": "2024-06-30T07:45:17.502635Z"
    }
   },
   "cell_type": "code",
   "source": [
    "def pprint(text: str):\n",
    "    \"\"\"Pretty print the text as markdown in Jupyter Notebook's output.\"\"\"\n",
    "    display(Markdown(text))"
   ],
   "id": "f95d49699943e99b",
   "outputs": [],
   "execution_count": 5
  },
  {
   "metadata": {
    "ExecuteTime": {
     "end_time": "2024-06-30T07:45:17.514667Z",
     "start_time": "2024-06-30T07:45:17.509171Z"
    }
   },
   "cell_type": "code",
   "source": [
    "def gen_num_tokens(text: str, encoding: str = \"r50k_base\") -> int:\n",
    "    \"\"\"Calculate the number of tokens in a string for a specific model.\n",
    "    Supported encodings and their compatible models:\n",
    "    | Encoding    | Compatible Models                                     |\n",
    "    |-------------|-------------------------------------------------------|\n",
    "    | cl100k_base | gpt-4, gpt-3.5-turbo, and text-embedding-ada-002      |\n",
    "    | p50k_base   | codex models, text-davinci-002, and text-davinci-003  |\n",
    "    | r50k_base   | GPT-3-based models like davinci and GPT-3.5-turbo     |\n",
    "    \"\"\"\n",
    "    encoding = tiktoken.get_encoding(encoding)\n",
    "    return len(encoding.encode(text))"
   ],
   "id": "eb103567891fa92",
   "outputs": [],
   "execution_count": 6
  },
  {
   "metadata": {},
   "cell_type": "markdown",
   "source": "# Loading the Application Letters",
   "id": "9744b2654a8917ca"
  },
  {
   "cell_type": "code",
   "source": [
    "doc_loader = DocumentLoader()\n",
    "application_letters_df = doc_loader.bulk_load_documents(LETTERS_DIR, ext=\"text\")"
   ],
   "metadata": {
    "collapsed": false,
    "ExecuteTime": {
     "end_time": "2024-06-30T07:45:17.534080Z",
     "start_time": "2024-06-30T07:45:17.515048Z"
    }
   },
   "id": "d4373fdb670dddb4",
   "outputs": [],
   "execution_count": 7
  },
  {
   "cell_type": "code",
   "source": "application_letters_df.head()",
   "metadata": {
    "collapsed": false,
    "ExecuteTime": {
     "end_time": "2024-06-30T07:45:17.539006Z",
     "start_time": "2024-06-30T07:45:17.534575Z"
    }
   },
   "id": "afca07705eed8007",
   "outputs": [
    {
     "data": {
      "text/plain": [
       "                  id                                               text\n",
       "0  sample_letter_507  I am writing to apply for the System Administr...\n",
       "1  sample_letter_649  I am excited to apply for the AI Engineer posi...\n",
       "2  sample_letter_480  Dear Hiring Manager,\\n\\nI am writing to expres...\n",
       "3  sample_letter_605  Dear Hiring Manager,\\n\\nI am writing to expres...\n",
       "4  sample_letter_746  I am writing to express my interest in the Dat..."
      ],
      "text/html": [
       "<div>\n",
       "<style scoped>\n",
       "    .dataframe tbody tr th:only-of-type {\n",
       "        vertical-align: middle;\n",
       "    }\n",
       "\n",
       "    .dataframe tbody tr th {\n",
       "        vertical-align: top;\n",
       "    }\n",
       "\n",
       "    .dataframe thead th {\n",
       "        text-align: right;\n",
       "    }\n",
       "</style>\n",
       "<table border=\"1\" class=\"dataframe\">\n",
       "  <thead>\n",
       "    <tr style=\"text-align: right;\">\n",
       "      <th></th>\n",
       "      <th>id</th>\n",
       "      <th>text</th>\n",
       "    </tr>\n",
       "  </thead>\n",
       "  <tbody>\n",
       "    <tr>\n",
       "      <th>0</th>\n",
       "      <td>sample_letter_507</td>\n",
       "      <td>I am writing to apply for the System Administr...</td>\n",
       "    </tr>\n",
       "    <tr>\n",
       "      <th>1</th>\n",
       "      <td>sample_letter_649</td>\n",
       "      <td>I am excited to apply for the AI Engineer posi...</td>\n",
       "    </tr>\n",
       "    <tr>\n",
       "      <th>2</th>\n",
       "      <td>sample_letter_480</td>\n",
       "      <td>Dear Hiring Manager,\\n\\nI am writing to expres...</td>\n",
       "    </tr>\n",
       "    <tr>\n",
       "      <th>3</th>\n",
       "      <td>sample_letter_605</td>\n",
       "      <td>Dear Hiring Manager,\\n\\nI am writing to expres...</td>\n",
       "    </tr>\n",
       "    <tr>\n",
       "      <th>4</th>\n",
       "      <td>sample_letter_746</td>\n",
       "      <td>I am writing to express my interest in the Dat...</td>\n",
       "    </tr>\n",
       "  </tbody>\n",
       "</table>\n",
       "</div>"
      ]
     },
     "execution_count": 8,
     "metadata": {},
     "output_type": "execute_result"
    }
   ],
   "execution_count": 8
  },
  {
   "metadata": {},
   "cell_type": "markdown",
   "source": "# Initializing a Connector to the OpenAI API",
   "id": "f13c02d1366be5df"
  },
  {
   "cell_type": "code",
   "source": [
    "openai_key = os.getenv(\"OPENAI_API_KEY\")\n",
    "\n",
    "# Check if the API key is set and available\n",
    "assert openai_key != \"\", \"Please set the OPENAI_API_KEY environment variable\""
   ],
   "metadata": {
    "collapsed": false,
    "ExecuteTime": {
     "end_time": "2024-06-30T07:45:17.543133Z",
     "start_time": "2024-06-30T07:45:17.539659Z"
    }
   },
   "id": "c7e7e469ae9840ea",
   "outputs": [],
   "execution_count": 9
  },
  {
   "cell_type": "code",
   "source": "connector = OpenAIConnector(openai_key)",
   "metadata": {
    "collapsed": false,
    "ExecuteTime": {
     "end_time": "2024-06-30T07:45:17.561978Z",
     "start_time": "2024-06-30T07:45:17.544124Z"
    }
   },
   "id": "47b55c370e9b849a",
   "outputs": [],
   "execution_count": 10
  },
  {
   "metadata": {},
   "cell_type": "markdown",
   "source": "# Embedding the Letters",
   "id": "64a31f966f4bce00"
  },
  {
   "cell_type": "code",
   "source": [
    "letters_with_embeddings_df = application_letters_df.copy()\n",
    "letters_with_embeddings_df['embedding'] = connector.embed(documents=application_letters_df['text'], \n",
    "                                                          model=EmbeddingModels.OPENAPI_EMS)"
   ],
   "metadata": {
    "collapsed": false,
    "ExecuteTime": {
     "end_time": "2024-06-30T07:45:23.537723Z",
     "start_time": "2024-06-30T07:45:17.562514Z"
    }
   },
   "id": "68a6d6e054a998b0",
   "outputs": [],
   "execution_count": 11
  },
  {
   "metadata": {
    "ExecuteTime": {
     "end_time": "2024-06-30T07:45:23.544142Z",
     "start_time": "2024-06-30T07:45:23.538340Z"
    }
   },
   "cell_type": "code",
   "source": "letters_with_embeddings_df.head()",
   "id": "8d4478a411acf706",
   "outputs": [
    {
     "data": {
      "text/plain": [
       "                  id                                               text  \\\n",
       "0  sample_letter_507  I am writing to apply for the System Administr...   \n",
       "1  sample_letter_649  I am excited to apply for the AI Engineer posi...   \n",
       "2  sample_letter_480  Dear Hiring Manager,\\n\\nI am writing to expres...   \n",
       "3  sample_letter_605  Dear Hiring Manager,\\n\\nI am writing to expres...   \n",
       "4  sample_letter_746  I am writing to express my interest in the Dat...   \n",
       "\n",
       "                                           embedding  \n",
       "0  [-0.01789187453687191, 0.015593836084008217, 0...  \n",
       "1  [-0.016682444140315056, -0.0227852500975132, -...  \n",
       "2  [0.04394077882170677, 0.005209765397012234, 0....  \n",
       "3  [0.04028189927339554, 0.020218798890709877, 0....  \n",
       "4  [0.016521798446774483, -0.006224688142538071, ...  "
      ],
      "text/html": [
       "<div>\n",
       "<style scoped>\n",
       "    .dataframe tbody tr th:only-of-type {\n",
       "        vertical-align: middle;\n",
       "    }\n",
       "\n",
       "    .dataframe tbody tr th {\n",
       "        vertical-align: top;\n",
       "    }\n",
       "\n",
       "    .dataframe thead th {\n",
       "        text-align: right;\n",
       "    }\n",
       "</style>\n",
       "<table border=\"1\" class=\"dataframe\">\n",
       "  <thead>\n",
       "    <tr style=\"text-align: right;\">\n",
       "      <th></th>\n",
       "      <th>id</th>\n",
       "      <th>text</th>\n",
       "      <th>embedding</th>\n",
       "    </tr>\n",
       "  </thead>\n",
       "  <tbody>\n",
       "    <tr>\n",
       "      <th>0</th>\n",
       "      <td>sample_letter_507</td>\n",
       "      <td>I am writing to apply for the System Administr...</td>\n",
       "      <td>[-0.01789187453687191, 0.015593836084008217, 0...</td>\n",
       "    </tr>\n",
       "    <tr>\n",
       "      <th>1</th>\n",
       "      <td>sample_letter_649</td>\n",
       "      <td>I am excited to apply for the AI Engineer posi...</td>\n",
       "      <td>[-0.016682444140315056, -0.0227852500975132, -...</td>\n",
       "    </tr>\n",
       "    <tr>\n",
       "      <th>2</th>\n",
       "      <td>sample_letter_480</td>\n",
       "      <td>Dear Hiring Manager,\\n\\nI am writing to expres...</td>\n",
       "      <td>[0.04394077882170677, 0.005209765397012234, 0....</td>\n",
       "    </tr>\n",
       "    <tr>\n",
       "      <th>3</th>\n",
       "      <td>sample_letter_605</td>\n",
       "      <td>Dear Hiring Manager,\\n\\nI am writing to expres...</td>\n",
       "      <td>[0.04028189927339554, 0.020218798890709877, 0....</td>\n",
       "    </tr>\n",
       "    <tr>\n",
       "      <th>4</th>\n",
       "      <td>sample_letter_746</td>\n",
       "      <td>I am writing to express my interest in the Dat...</td>\n",
       "      <td>[0.016521798446774483, -0.006224688142538071, ...</td>\n",
       "    </tr>\n",
       "  </tbody>\n",
       "</table>\n",
       "</div>"
      ]
     },
     "execution_count": 12,
     "metadata": {},
     "output_type": "execute_result"
    }
   ],
   "execution_count": 12
  },
  {
   "metadata": {},
   "cell_type": "markdown",
   "source": "# Finding the Most Relevant Letters to the Job Ad",
   "id": "c7e02957fc102026"
  },
  {
   "metadata": {
    "ExecuteTime": {
     "end_time": "2024-06-30T07:45:23.550095Z",
     "start_time": "2024-06-30T07:45:23.545037Z"
    }
   },
   "cell_type": "code",
   "source": "ranker = Ranker()",
   "id": "ce90f301a75a57d",
   "outputs": [],
   "execution_count": 13
  },
  {
   "metadata": {
    "ExecuteTime": {
     "end_time": "2024-06-30T07:45:23.690035Z",
     "start_time": "2024-06-30T07:45:23.550917Z"
    }
   },
   "cell_type": "code",
   "source": "ranker.make_collection(documents_with_embeddings=letters_with_embeddings_df)",
   "id": "20a8939323bfaf40",
   "outputs": [
    {
     "name": "stdout",
     "output_type": "stream",
     "text": [
      "Creating collection letters with 813 points of size 1536\n"
     ]
    }
   ],
   "execution_count": 14
  },
  {
   "metadata": {
    "ExecuteTime": {
     "end_time": "2024-06-30T07:45:23.693269Z",
     "start_time": "2024-06-30T07:45:23.690748Z"
    }
   },
   "cell_type": "code",
   "source": [
    "sample_job_ad = doc_loader.load_document(path=SAMPLE_JOB_AD)\n",
    "\n",
    "pprint(sample_job_ad)"
   ],
   "id": "f1ecce59c3f826e0",
   "outputs": [
    {
     "data": {
      "text/plain": [
       "<IPython.core.display.Markdown object>"
      ],
      "text/markdown": "OSI Assistance Foundation - Armenian Branch Office\nJOB TITLE:  Chief Accountant/ Finance Assistant\nPOSITION LOCATION: Yerevan, Armenia\nJOB DESCRIPTION:   The Armenian Branch Office of the Open Society\nInstitute Assistance Foundation is seeking applications for the position\nof Chief Accountant/ Finance Assistant. The Chief Accountant/ Finance\nAssistant will be responsible for all transactions, connected with grant\npayments, administrative expenses. \nREQUIRED QUALIFICATIONS: \n- University degree in finance/ accounting; \n- One year minimum experience in an international organization; \n- Strong organizational skills; \n- Good knowledge of software programs: MS Excel and MS Access; \n- Good knowledge of IAS, Armenian taxation laws, reporting requirements\nand current reforms; \n- Discretion and ability to handle confidential issues; \n- Self-motivation with an ability to set and meet goals; \n- Quick learning skills; \n- Fluency in English, Armenian and Russian. \nAPPLICATION PROCEDURES:  For submission of applications/ CVs, please\ncontact the OSI AF - Armenia at: 1 Pushkin Str., apt. 2. Tel: 54 2119,\n54 39 01, 54 17 19; e-mail: jobs@.... \nPlease clearly mention in your application letter that you learned of\nthis job opportunity through Career Center and mention the URL of its\nwebsite - www.careercenter.am, Thanks.\nAPPLICATION DEADLINE:   16 January 2004, 6:00 pm.\n----------------------------------\nTo place a free posting for job or other career related opportunities in\nyour organization at careercenter.am website, e-mail us atmailbox@..."
     },
     "metadata": {},
     "output_type": "display_data"
    }
   ],
   "execution_count": 15
  },
  {
   "metadata": {
    "ExecuteTime": {
     "end_time": "2024-06-30T07:45:23.990759Z",
     "start_time": "2024-06-30T07:45:23.693991Z"
    }
   },
   "cell_type": "code",
   "source": [
    "sample_job_ad_embedded = connector.embed(documents=[sample_job_ad], \n",
    "                                         model=EmbeddingModels.OPENAPI_EMS)"
   ],
   "id": "2d61db3285bf245c",
   "outputs": [],
   "execution_count": 16
  },
  {
   "metadata": {
    "ExecuteTime": {
     "end_time": "2024-06-30T07:45:23.993450Z",
     "start_time": "2024-06-30T07:45:23.991322Z"
    }
   },
   "cell_type": "code",
   "source": "sample_job_ad_embedded",
   "id": "f40e0f2ddb7a7504",
   "outputs": [
    {
     "data": {
      "text/plain": [
       "[array([-0.03499759, -0.01236026,  0.00740111, ...,  0.00064774,\n",
       "         0.02555379, -0.00236529])]"
      ]
     },
     "execution_count": 17,
     "metadata": {},
     "output_type": "execute_result"
    }
   ],
   "execution_count": 17
  },
  {
   "metadata": {
    "ExecuteTime": {
     "end_time": "2024-06-30T07:45:24.007013Z",
     "start_time": "2024-06-30T07:45:23.994070Z"
    }
   },
   "cell_type": "code",
   "source": [
    "most_relevant_letters =  ranker.find_similar(sample_job_ad_embedded[0], top_k=3, min_similarity=0.1)\n",
    "\n",
    "most_relevant_letters"
   ],
   "id": "1ab0c0edd9e564bf",
   "outputs": [
    {
     "data": {
      "text/plain": [
       "[ScoredPoint(id=302, version=0, score=0.36129672473127655, payload={'text': 'I am applying for the System Administrator position at Adobe. My extensive experience with Red Hat, CentOS, and Puppet, as well as my proficiency in Ruby, makes me a strong candidate for this role. I am excited about the opportunity to bring my unique skill set to your team.'}, vector=None, shard_key=None),\n",
       " ScoredPoint(id=640, version=0, score=0.35730961122204624, payload={'text': 'I am very interested in the Senior Support Engineer position at Innovative Tech. I have over 4 years of experience in IT support, and I am confident that I can bring a high level of expertise to your team. In my current role at ABC Inc, I have been responsible for managing a team of support specialists and dealing with complex technical issues. I am highly skilled in troubleshooting, networking, and both Linux and Windows systems. I hold a BSc in Information Technology and I am always eager to learn and improve my skills. I believe that my experience and dedication would make me a valuable addition to your company. Thank you for considering my application.'}, vector=None, shard_key=None),\n",
       " ScoredPoint(id=545, version=0, score=0.35427863518996816, payload={'text': \"Dear Hiring Manager,\\n\\nI am writing to express my interest in the Intermediate Applied Scientist position at ABC Environmental Solutions. With my strong background in environmental science and experience in applied consulting, I believe I am well-suited for this role.\\n\\nIn my current position as an Applied Scientist at DEF Environmental Solutions, I have successfully conducted environmental impact assessments and provided regulatory support. I have also gained proficiency in data analysis using tools such as Microsoft Office Suite and Arc GIS. Additionally, my fieldwork experience has allowed me to develop strong problem-solving skills and the ability to thrive under new challenges.\\n\\nI hold a Bachelor's degree in Environmental Science and have completed the Canadian Certified Electrofishing Course, demonstrating my commitment to continuous learning and professional development. Furthermore, my Level 1 First Aid Certificate in BC showcases my dedication to safety in the field.\\n\\nI am confident that my technical expertise, leadership abilities, and strong communication skills make me a valuable asset to your team. I am excited about the opportunity to contribute to ABC Environmental Solutions and make a positive impact on environmental conservation.\\n\\nThank you for considering my application. I look forward to the opportunity to discuss how my qualifications align with the requirements of the Intermediate Applied Scientist position.\\n\\nSincerely,\\nJohn Smith\"}, vector=None, shard_key=None)]"
      ]
     },
     "execution_count": 18,
     "metadata": {},
     "output_type": "execute_result"
    }
   ],
   "execution_count": 18
  },
  {
   "metadata": {
    "ExecuteTime": {
     "end_time": "2024-06-30T07:45:24.009746Z",
     "start_time": "2024-06-30T07:45:24.007606Z"
    }
   },
   "cell_type": "code",
   "source": [
    "for letter in most_relevant_letters:\n",
    "    print(\"=\"*80)\n",
    "    print(f\"Letter ID: {letter.id}\")\n",
    "    print(f\"Similarity: {letter.score:.2f}\")\n",
    "    print(f\"Letter Text:\\n{letter.payload['text']}\")\n",
    "    print()"
   ],
   "id": "72f666ce5b32c3c2",
   "outputs": [
    {
     "name": "stdout",
     "output_type": "stream",
     "text": [
      "================================================================================\n",
      "Letter ID: 302\n",
      "Similarity: 0.36\n",
      "Letter Text:\n",
      "I am applying for the System Administrator position at Adobe. My extensive experience with Red Hat, CentOS, and Puppet, as well as my proficiency in Ruby, makes me a strong candidate for this role. I am excited about the opportunity to bring my unique skill set to your team.\n",
      "\n",
      "================================================================================\n",
      "Letter ID: 640\n",
      "Similarity: 0.36\n",
      "Letter Text:\n",
      "I am very interested in the Senior Support Engineer position at Innovative Tech. I have over 4 years of experience in IT support, and I am confident that I can bring a high level of expertise to your team. In my current role at ABC Inc, I have been responsible for managing a team of support specialists and dealing with complex technical issues. I am highly skilled in troubleshooting, networking, and both Linux and Windows systems. I hold a BSc in Information Technology and I am always eager to learn and improve my skills. I believe that my experience and dedication would make me a valuable addition to your company. Thank you for considering my application.\n",
      "\n",
      "================================================================================\n",
      "Letter ID: 545\n",
      "Similarity: 0.35\n",
      "Letter Text:\n",
      "Dear Hiring Manager,\n",
      "\n",
      "I am writing to express my interest in the Intermediate Applied Scientist position at ABC Environmental Solutions. With my strong background in environmental science and experience in applied consulting, I believe I am well-suited for this role.\n",
      "\n",
      "In my current position as an Applied Scientist at DEF Environmental Solutions, I have successfully conducted environmental impact assessments and provided regulatory support. I have also gained proficiency in data analysis using tools such as Microsoft Office Suite and Arc GIS. Additionally, my fieldwork experience has allowed me to develop strong problem-solving skills and the ability to thrive under new challenges.\n",
      "\n",
      "I hold a Bachelor's degree in Environmental Science and have completed the Canadian Certified Electrofishing Course, demonstrating my commitment to continuous learning and professional development. Furthermore, my Level 1 First Aid Certificate in BC showcases my dedication to safety in the field.\n",
      "\n",
      "I am confident that my technical expertise, leadership abilities, and strong communication skills make me a valuable asset to your team. I am excited about the opportunity to contribute to ABC Environmental Solutions and make a positive impact on environmental conservation.\n",
      "\n",
      "Thank you for considering my application. I look forward to the opportunity to discuss how my qualifications align with the requirements of the Intermediate Applied Scientist position.\n",
      "\n",
      "Sincerely,\n",
      "John Smith\n",
      "\n"
     ]
    }
   ],
   "execution_count": 19
  },
  {
   "metadata": {},
   "cell_type": "markdown",
   "source": "# Gluing Everything Together",
   "id": "6b7ec625af7b6ac5"
  },
  {
   "metadata": {
    "ExecuteTime": {
     "end_time": "2024-06-30T07:45:24.023752Z",
     "start_time": "2024-06-30T07:45:24.010292Z"
    }
   },
   "cell_type": "code",
   "source": [
    "prompt_part_1 = \"I'm applying for a job with this description:\\n\\n\"\n",
    "prompt_part_2 = \"#START OF JOB AD\\n\\n\" + sample_job_ad + \"\\n\\n#END OF JOB AD\"\n",
    "prompt_part_3 = \"\\n\\nI need to submit a application letter with my CV. Here is a few examples of my previous application letters:\\n\\n\"\n",
    "prompt_part_4 = \"\\n\\n\".join([('#START OF EXAMPLE APPLICATION LETTER\\n\\n'+\n",
    "                              t.payload['text'] + '\\n\\n#END OF EXAMPLE APPLICATION LETTER')\n",
    "                              for t in most_relevant_letters])\n",
    "# Extra information for the prompt\n",
    "prompt_part_5 = (\"\\n\\nWrite a new application letter that is tailored to the job description above. \"\n",
    "                 \"Be concise and to the point. The letter should be no longer than 500 words. \"\n",
    "                 \"The letter should be written in English and be easy to read.\\n\\n\")\n",
    "\n",
    "prompt = prompt_part_1 + prompt_part_2 + prompt_part_3 + prompt_part_4 + prompt_part_5\n",
    "pprint(prompt)"
   ],
   "id": "469615267e34f4b7",
   "outputs": [
    {
     "data": {
      "text/plain": [
       "<IPython.core.display.Markdown object>"
      ],
      "text/markdown": "I'm applying for a job with this description:\n\n#START OF JOB AD\n\nOSI Assistance Foundation - Armenian Branch Office\nJOB TITLE:  Chief Accountant/ Finance Assistant\nPOSITION LOCATION: Yerevan, Armenia\nJOB DESCRIPTION:   The Armenian Branch Office of the Open Society\nInstitute Assistance Foundation is seeking applications for the position\nof Chief Accountant/ Finance Assistant. The Chief Accountant/ Finance\nAssistant will be responsible for all transactions, connected with grant\npayments, administrative expenses. \nREQUIRED QUALIFICATIONS: \n- University degree in finance/ accounting; \n- One year minimum experience in an international organization; \n- Strong organizational skills; \n- Good knowledge of software programs: MS Excel and MS Access; \n- Good knowledge of IAS, Armenian taxation laws, reporting requirements\nand current reforms; \n- Discretion and ability to handle confidential issues; \n- Self-motivation with an ability to set and meet goals; \n- Quick learning skills; \n- Fluency in English, Armenian and Russian. \nAPPLICATION PROCEDURES:  For submission of applications/ CVs, please\ncontact the OSI AF - Armenia at: 1 Pushkin Str., apt. 2. Tel: 54 2119,\n54 39 01, 54 17 19; e-mail: jobs@.... \nPlease clearly mention in your application letter that you learned of\nthis job opportunity through Career Center and mention the URL of its\nwebsite - www.careercenter.am, Thanks.\nAPPLICATION DEADLINE:   16 January 2004, 6:00 pm.\n----------------------------------\nTo place a free posting for job or other career related opportunities in\nyour organization at careercenter.am website, e-mail us atmailbox@...\n\n#END OF JOB AD\n\nI need to submit a application letter with my CV. Here is a few examples of my previous application letters:\n\n#START OF EXAMPLE APPLICATION LETTER\n\nI am applying for the System Administrator position at Adobe. My extensive experience with Red Hat, CentOS, and Puppet, as well as my proficiency in Ruby, makes me a strong candidate for this role. I am excited about the opportunity to bring my unique skill set to your team.\n\n#END OF EXAMPLE APPLICATION LETTER\n\n#START OF EXAMPLE APPLICATION LETTER\n\nI am very interested in the Senior Support Engineer position at Innovative Tech. I have over 4 years of experience in IT support, and I am confident that I can bring a high level of expertise to your team. In my current role at ABC Inc, I have been responsible for managing a team of support specialists and dealing with complex technical issues. I am highly skilled in troubleshooting, networking, and both Linux and Windows systems. I hold a BSc in Information Technology and I am always eager to learn and improve my skills. I believe that my experience and dedication would make me a valuable addition to your company. Thank you for considering my application.\n\n#END OF EXAMPLE APPLICATION LETTER\n\n#START OF EXAMPLE APPLICATION LETTER\n\nDear Hiring Manager,\n\nI am writing to express my interest in the Intermediate Applied Scientist position at ABC Environmental Solutions. With my strong background in environmental science and experience in applied consulting, I believe I am well-suited for this role.\n\nIn my current position as an Applied Scientist at DEF Environmental Solutions, I have successfully conducted environmental impact assessments and provided regulatory support. I have also gained proficiency in data analysis using tools such as Microsoft Office Suite and Arc GIS. Additionally, my fieldwork experience has allowed me to develop strong problem-solving skills and the ability to thrive under new challenges.\n\nI hold a Bachelor's degree in Environmental Science and have completed the Canadian Certified Electrofishing Course, demonstrating my commitment to continuous learning and professional development. Furthermore, my Level 1 First Aid Certificate in BC showcases my dedication to safety in the field.\n\nI am confident that my technical expertise, leadership abilities, and strong communication skills make me a valuable asset to your team. I am excited about the opportunity to contribute to ABC Environmental Solutions and make a positive impact on environmental conservation.\n\nThank you for considering my application. I look forward to the opportunity to discuss how my qualifications align with the requirements of the Intermediate Applied Scientist position.\n\nSincerely,\nJohn Smith\n\n#END OF EXAMPLE APPLICATION LETTER\n\nWrite a new application letter that is tailored to the job description above. Be concise and to the point. The letter should be no longer than 500 words. The letter should be written in English and be easy to read.\n\n"
     },
     "metadata": {},
     "output_type": "display_data"
    }
   ],
   "execution_count": 20
  },
  {
   "metadata": {
    "ExecuteTime": {
     "end_time": "2024-06-30T07:45:24.112812Z",
     "start_time": "2024-06-30T07:45:24.027170Z"
    }
   },
   "cell_type": "code",
   "source": [
    "num_tokens = gen_num_tokens(text=prompt, encoding='r50k_base')\n",
    "print(f\"Number of tokens sent to the API: {num_tokens}\")"
   ],
   "id": "777666bb5f08fab",
   "outputs": [
    {
     "name": "stdout",
     "output_type": "stream",
     "text": [
      "Number of tokens sent to the API: 995\n"
     ]
    }
   ],
   "execution_count": 21
  },
  {
   "metadata": {
    "ExecuteTime": {
     "end_time": "2024-06-30T07:45:27.080418Z",
     "start_time": "2024-06-30T07:45:24.113380Z"
    }
   },
   "cell_type": "code",
   "source": [
    "draft_letter = connector.chat(prompt=prompt, \n",
    "                          model=LanguageModels.OPENAI_GPT35TURBO,\n",
    "                          temperature=0.1,\n",
    "                          max_tokens=512)"
   ],
   "id": "fdcaa76ede6692a7",
   "outputs": [],
   "execution_count": 22
  },
  {
   "metadata": {
    "ExecuteTime": {
     "end_time": "2024-06-30T07:45:27.083850Z",
     "start_time": "2024-06-30T07:45:27.081468Z"
    }
   },
   "cell_type": "code",
   "source": "pprint(draft_letter)",
   "id": "7fdc9e1c780ff8fc",
   "outputs": [
    {
     "data": {
      "text/plain": [
       "<IPython.core.display.Markdown object>"
      ],
      "text/markdown": "Dear Hiring Manager,\n\nI am writing to apply for the Chief Accountant/ Finance Assistant position at OSI Assistance Foundation - Armenian Branch Office. With a Bachelor's degree in finance and accounting, along with over two years of experience in international organizations, I am confident in my ability to excel in this role.\n\nThroughout my career, I have demonstrated strong organizational skills and a keen attention to detail when handling grant payments and administrative expenses. I am proficient in MS Excel and MS Access, and have a solid understanding of IAS, Armenian taxation laws, and reporting requirements. My ability to handle confidential issues with discretion, coupled with my self-motivation and goal-setting skills, make me a suitable candidate for this position.\n\nI am a quick learner with fluency in English, Armenian, and Russian, allowing me to effectively communicate with stakeholders in a multicultural environment. I am eager to contribute to the success of OSI Assistance Foundation - Armenian Branch Office and support its mission of providing assistance to those in need.\n\nThank you for considering my application. I look forward to the opportunity to discuss how my qualifications align with the requirements of the Chief Accountant/ Finance Assistant position.\n\nSincerely,\n[Your Name]"
     },
     "metadata": {},
     "output_type": "display_data"
    }
   ],
   "execution_count": 23
  },
  {
   "metadata": {
    "ExecuteTime": {
     "end_time": "2024-06-30T07:45:27.091433Z",
     "start_time": "2024-06-30T07:45:27.084373Z"
    }
   },
   "cell_type": "code",
   "source": [
    "# Save the draft letter to a file\n",
    "output_file = OUTPUT_DIR / f\"draft-letter-using-{LanguageModels.OPENAI_GPT35TURBO}.txt\"\n",
    "with io.open(output_file, 'w', encoding='utf-8') as f:\n",
    "    f.write(draft_letter)"
   ],
   "id": "72e655639ecf67ec",
   "outputs": [],
   "execution_count": 24
  },
  {
   "metadata": {
    "ExecuteTime": {
     "end_time": "2024-06-30T07:45:27.102795Z",
     "start_time": "2024-06-30T07:45:27.092220Z"
    }
   },
   "cell_type": "code",
   "source": "print(\"Done! The draft letter is saved to the file: \", output_file)",
   "id": "58c6a81261120d3a",
   "outputs": [
    {
     "name": "stdout",
     "output_type": "stream",
     "text": [
      "Done! The draft letter is saved to the file:  output/draft-letter-using-gpt-3.5-turbo.txt\n"
     ]
    }
   ],
   "execution_count": 25
  }
 ],
 "metadata": {
  "kernelspec": {
   "display_name": "Python 3",
   "language": "python",
   "name": "python3"
  },
  "language_info": {
   "codemirror_mode": {
    "name": "ipython",
    "version": 2
   },
   "file_extension": ".py",
   "mimetype": "text/x-python",
   "name": "python",
   "nbconvert_exporter": "python",
   "pygments_lexer": "ipython2",
   "version": "2.7.6"
  }
 },
 "nbformat": 4,
 "nbformat_minor": 5
}
